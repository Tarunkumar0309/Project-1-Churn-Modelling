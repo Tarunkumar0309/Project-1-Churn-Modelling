{
 "cells": [
  {
   "cell_type": "markdown",
   "id": "2206247f",
   "metadata": {},
   "source": [
    "### Importing the libraries"
   ]
  },
  {
   "cell_type": "code",
   "execution_count": 1,
   "id": "1e8691dc",
   "metadata": {},
   "outputs": [],
   "source": [
    "import numpy as np\n",
    "import pandas as pd\n",
    "import tensorflow as tf\n"
   ]
  },
  {
   "cell_type": "markdown",
   "id": "183acdda",
   "metadata": {},
   "source": [
    "#### for reading the dataset"
   ]
  },
  {
   "cell_type": "code",
   "execution_count": 2,
   "id": "6481b1d2",
   "metadata": {},
   "outputs": [
    {
     "data": {
      "text/plain": [
       "'2.9.1'"
      ]
     },
     "execution_count": 2,
     "metadata": {},
     "output_type": "execute_result"
    }
   ],
   "source": [
    "tf.__version__"
   ]
  },
  {
   "cell_type": "markdown",
   "id": "601d5be6",
   "metadata": {},
   "source": [
    "## 1-Data preprocessing\n",
    "#### importing the dataset"
   ]
  },
  {
   "cell_type": "code",
   "execution_count": 3,
   "id": "d69ad461",
   "metadata": {},
   "outputs": [],
   "source": [
    "dataset = pd.read_csv('Churn_Modelling.csv')\n",
    "X = dataset.iloc[:, 3:-1].values\n",
    "y = dataset.iloc[:, -1].values"
   ]
  },
  {
   "cell_type": "code",
   "execution_count": 4,
   "id": "c8a6e680",
   "metadata": {},
   "outputs": [
    {
     "name": "stdout",
     "output_type": "stream",
     "text": [
      "[[619 'France' 'Female' ... 1 1 101348.88]\n",
      " [608 'Spain' 'Female' ... 0 1 112542.58]\n",
      " [502 'France' 'Female' ... 1 0 113931.57]\n",
      " ...\n",
      " [709 'France' 'Female' ... 0 1 42085.58]\n",
      " [772 'Germany' 'Male' ... 1 0 92888.52]\n",
      " [792 'France' 'Female' ... 1 0 38190.78]]\n"
     ]
    }
   ],
   "source": [
    "print(X)"
   ]
  },
  {
   "cell_type": "code",
   "execution_count": 5,
   "id": "15212aab",
   "metadata": {},
   "outputs": [
    {
     "name": "stdout",
     "output_type": "stream",
     "text": [
      "[1 0 1 ... 1 1 0]\n"
     ]
    }
   ],
   "source": [
    "print(y)"
   ]
  },
  {
   "cell_type": "markdown",
   "id": "b6f2292b",
   "metadata": {},
   "source": [
    "### Encoding categorical data\n",
    "###### Label the \"Gender\" column"
   ]
  },
  {
   "cell_type": "code",
   "execution_count": 6,
   "id": "5d314be0",
   "metadata": {},
   "outputs": [],
   "source": [
    "from sklearn.preprocessing import LabelEncoder\n",
    "le = LabelEncoder()\n",
    "X[:, 2] = le.fit_transform(X[:, 2])"
   ]
  },
  {
   "cell_type": "code",
   "execution_count": 7,
   "id": "8c8162ba",
   "metadata": {},
   "outputs": [
    {
     "name": "stdout",
     "output_type": "stream",
     "text": [
      "[[619 'France' 0 ... 1 1 101348.88]\n",
      " [608 'Spain' 0 ... 0 1 112542.58]\n",
      " [502 'France' 0 ... 1 0 113931.57]\n",
      " ...\n",
      " [709 'France' 0 ... 0 1 42085.58]\n",
      " [772 'Germany' 1 ... 1 0 92888.52]\n",
      " [792 'France' 0 ... 1 0 38190.78]]\n"
     ]
    }
   ],
   "source": [
    "print(X)"
   ]
  },
  {
   "cell_type": "markdown",
   "id": "43ce5be4",
   "metadata": {},
   "source": [
    "#### Encoding the \"Geography\" column"
   ]
  },
  {
   "cell_type": "code",
   "execution_count": 8,
   "id": "1a294bad",
   "metadata": {},
   "outputs": [],
   "source": [
    "from sklearn.compose import ColumnTransformer\n",
    "from sklearn.preprocessing import OneHotEncoder\n",
    "ct = ColumnTransformer(transformers=[('encoder', OneHotEncoder(), [1])], remainder='passthrough')\n",
    "X = np.array(ct.fit_transform(X))"
   ]
  },
  {
   "cell_type": "code",
   "execution_count": 9,
   "id": "455c225a",
   "metadata": {},
   "outputs": [
    {
     "name": "stdout",
     "output_type": "stream",
     "text": [
      "[[1.0 0.0 0.0 ... 1 1 101348.88]\n",
      " [0.0 0.0 1.0 ... 0 1 112542.58]\n",
      " [1.0 0.0 0.0 ... 1 0 113931.57]\n",
      " ...\n",
      " [1.0 0.0 0.0 ... 0 1 42085.58]\n",
      " [0.0 1.0 0.0 ... 1 0 92888.52]\n",
      " [1.0 0.0 0.0 ... 1 0 38190.78]]\n"
     ]
    }
   ],
   "source": [
    "print(X)"
   ]
  },
  {
   "cell_type": "markdown",
   "id": "993cc07d",
   "metadata": {},
   "source": [
    "### split the dataset into two sets trainingset and test set "
   ]
  },
  {
   "cell_type": "code",
   "execution_count": 10,
   "id": "fe579c18",
   "metadata": {},
   "outputs": [],
   "source": [
    "from sklearn.model_selection import train_test_split\n",
    "X_train, X_test, y_train, y_test = train_test_split(X, y, test_size = 0.2, random_state = 0)"
   ]
  },
  {
   "cell_type": "markdown",
   "id": "4d0fba53",
   "metadata": {},
   "source": [
    "### Now feature Scaling"
   ]
  },
  {
   "cell_type": "code",
   "execution_count": 11,
   "id": "d7df1159",
   "metadata": {},
   "outputs": [],
   "source": [
    "from sklearn.preprocessing import StandardScaler\n",
    "sc = StandardScaler()\n",
    "X_train = sc.fit_transform(X_train)\n",
    "X_test = sc.transform(X_test)"
   ]
  },
  {
   "cell_type": "markdown",
   "id": "80ab4a46",
   "metadata": {},
   "source": [
    "## Building the ANN"
   ]
  },
  {
   "cell_type": "markdown",
   "id": "395d4419",
   "metadata": {},
   "source": [
    "#### Now initiating the ANN"
   ]
  },
  {
   "cell_type": "code",
   "execution_count": 12,
   "id": "d411739a",
   "metadata": {},
   "outputs": [],
   "source": [
    "ann = tf.keras.models.Sequential()"
   ]
  },
  {
   "cell_type": "markdown",
   "id": "7692ac19",
   "metadata": {},
   "source": [
    "### Adding the input layer and the first hidden layer"
   ]
  },
  {
   "cell_type": "code",
   "execution_count": 13,
   "id": "c7677435",
   "metadata": {},
   "outputs": [],
   "source": [
    "ann.add(tf.keras.layers.Dense(units=6, activation='relu'))"
   ]
  },
  {
   "cell_type": "markdown",
   "id": "1f834fc5",
   "metadata": {},
   "source": [
    "### Adding the second hidden layer"
   ]
  },
  {
   "cell_type": "code",
   "execution_count": 14,
   "id": "35e3fdad",
   "metadata": {},
   "outputs": [],
   "source": [
    "ann.add(tf.keras.layers.Dense(units=6, activation='relu'))"
   ]
  },
  {
   "cell_type": "markdown",
   "id": "a4b0c5bc",
   "metadata": {},
   "source": [
    "### Adding the output layer"
   ]
  },
  {
   "cell_type": "code",
   "execution_count": 15,
   "id": "a2b0d3a8",
   "metadata": {},
   "outputs": [],
   "source": [
    "ann.add(tf.keras.layers.Dense(units=1, activation='sigmoid'))"
   ]
  },
  {
   "cell_type": "markdown",
   "id": "daf049b5",
   "metadata": {},
   "source": [
    "## 3 - Training the ANN\n",
    "#### Compilation of the ANN"
   ]
  },
  {
   "cell_type": "code",
   "execution_count": 16,
   "id": "6fedea12",
   "metadata": {},
   "outputs": [],
   "source": [
    "ann.compile(optimizer = 'adam', loss = 'binary_crossentropy', metrics = ['accuracy'])"
   ]
  },
  {
   "cell_type": "markdown",
   "id": "0e712ad0",
   "metadata": {},
   "source": [
    "### Training of the ANN in the TRAINING SET"
   ]
  },
  {
   "cell_type": "code",
   "execution_count": 17,
   "id": "b0487d60",
   "metadata": {},
   "outputs": [
    {
     "name": "stdout",
     "output_type": "stream",
     "text": [
      "Epoch 1/45\n",
      "250/250 [==============================] - 1s 3ms/step - loss: 0.5178 - accuracy: 0.7931\n",
      "Epoch 2/45\n",
      "250/250 [==============================] - 1s 3ms/step - loss: 0.4545 - accuracy: 0.8025\n",
      "Epoch 3/45\n",
      "250/250 [==============================] - 1s 3ms/step - loss: 0.4351 - accuracy: 0.8081\n",
      "Epoch 4/45\n",
      "250/250 [==============================] - 1s 3ms/step - loss: 0.4281 - accuracy: 0.8127\n",
      "Epoch 5/45\n",
      "250/250 [==============================] - 1s 3ms/step - loss: 0.4241 - accuracy: 0.8161\n",
      "Epoch 6/45\n",
      "250/250 [==============================] - 1s 3ms/step - loss: 0.4222 - accuracy: 0.8189\n",
      "Epoch 7/45\n",
      "250/250 [==============================] - 1s 3ms/step - loss: 0.4202 - accuracy: 0.8188\n",
      "Epoch 8/45\n",
      "250/250 [==============================] - 1s 3ms/step - loss: 0.4187 - accuracy: 0.8202\n",
      "Epoch 9/45\n",
      "250/250 [==============================] - 1s 3ms/step - loss: 0.4175 - accuracy: 0.8192\n",
      "Epoch 10/45\n",
      "250/250 [==============================] - 1s 3ms/step - loss: 0.4163 - accuracy: 0.8205\n",
      "Epoch 11/45\n",
      "250/250 [==============================] - 1s 3ms/step - loss: 0.4149 - accuracy: 0.8214\n",
      "Epoch 12/45\n",
      "250/250 [==============================] - 1s 3ms/step - loss: 0.4136 - accuracy: 0.8215\n",
      "Epoch 13/45\n",
      "250/250 [==============================] - 1s 3ms/step - loss: 0.4124 - accuracy: 0.8235\n",
      "Epoch 14/45\n",
      "250/250 [==============================] - 1s 3ms/step - loss: 0.4111 - accuracy: 0.8235\n",
      "Epoch 15/45\n",
      "250/250 [==============================] - 1s 3ms/step - loss: 0.4099 - accuracy: 0.8253\n",
      "Epoch 16/45\n",
      "250/250 [==============================] - 1s 3ms/step - loss: 0.4080 - accuracy: 0.8271\n",
      "Epoch 17/45\n",
      "250/250 [==============================] - 1s 3ms/step - loss: 0.4058 - accuracy: 0.8266\n",
      "Epoch 18/45\n",
      "250/250 [==============================] - 1s 3ms/step - loss: 0.4031 - accuracy: 0.8299\n",
      "Epoch 19/45\n",
      "250/250 [==============================] - 1s 3ms/step - loss: 0.3990 - accuracy: 0.8338\n",
      "Epoch 20/45\n",
      "250/250 [==============================] - 1s 3ms/step - loss: 0.3951 - accuracy: 0.8346\n",
      "Epoch 21/45\n",
      "250/250 [==============================] - 1s 3ms/step - loss: 0.3908 - accuracy: 0.8359\n",
      "Epoch 22/45\n",
      "250/250 [==============================] - 1s 3ms/step - loss: 0.3866 - accuracy: 0.8388\n",
      "Epoch 23/45\n",
      "250/250 [==============================] - 1s 3ms/step - loss: 0.3818 - accuracy: 0.8395\n",
      "Epoch 24/45\n",
      "250/250 [==============================] - 1s 3ms/step - loss: 0.3782 - accuracy: 0.8384\n",
      "Epoch 25/45\n",
      "250/250 [==============================] - 1s 3ms/step - loss: 0.3728 - accuracy: 0.8434\n",
      "Epoch 26/45\n",
      "250/250 [==============================] - 1s 3ms/step - loss: 0.3680 - accuracy: 0.8472\n",
      "Epoch 27/45\n",
      "250/250 [==============================] - 1s 3ms/step - loss: 0.3616 - accuracy: 0.8518\n",
      "Epoch 28/45\n",
      "250/250 [==============================] - 1s 3ms/step - loss: 0.3558 - accuracy: 0.8562\n",
      "Epoch 29/45\n",
      "250/250 [==============================] - 1s 3ms/step - loss: 0.3525 - accuracy: 0.8591\n",
      "Epoch 30/45\n",
      "250/250 [==============================] - 1s 3ms/step - loss: 0.3490 - accuracy: 0.8606\n",
      "Epoch 31/45\n",
      "250/250 [==============================] - 1s 3ms/step - loss: 0.3473 - accuracy: 0.8587\n",
      "Epoch 32/45\n",
      "250/250 [==============================] - 1s 3ms/step - loss: 0.3452 - accuracy: 0.8601\n",
      "Epoch 33/45\n",
      "250/250 [==============================] - 1s 3ms/step - loss: 0.3443 - accuracy: 0.8621\n",
      "Epoch 34/45\n",
      "250/250 [==============================] - 1s 3ms/step - loss: 0.3428 - accuracy: 0.8619\n",
      "Epoch 35/45\n",
      "250/250 [==============================] - 1s 3ms/step - loss: 0.3423 - accuracy: 0.8626\n",
      "Epoch 36/45\n",
      "250/250 [==============================] - 1s 3ms/step - loss: 0.3418 - accuracy: 0.8615\n",
      "Epoch 37/45\n",
      "250/250 [==============================] - 1s 3ms/step - loss: 0.3406 - accuracy: 0.8640\n",
      "Epoch 38/45\n",
      "250/250 [==============================] - 1s 3ms/step - loss: 0.3405 - accuracy: 0.8634\n",
      "Epoch 39/45\n",
      "250/250 [==============================] - 1s 3ms/step - loss: 0.3401 - accuracy: 0.8626\n",
      "Epoch 40/45\n",
      "250/250 [==============================] - 1s 3ms/step - loss: 0.3396 - accuracy: 0.8636\n",
      "Epoch 41/45\n",
      "250/250 [==============================] - 1s 3ms/step - loss: 0.3395 - accuracy: 0.8630\n",
      "Epoch 42/45\n",
      "250/250 [==============================] - 1s 3ms/step - loss: 0.3395 - accuracy: 0.8630\n",
      "Epoch 43/45\n",
      "250/250 [==============================] - 1s 3ms/step - loss: 0.3390 - accuracy: 0.8630\n",
      "Epoch 44/45\n",
      "250/250 [==============================] - 1s 3ms/step - loss: 0.3390 - accuracy: 0.8633\n",
      "Epoch 45/45\n",
      "250/250 [==============================] - 1s 3ms/step - loss: 0.3387 - accuracy: 0.8622\n"
     ]
    },
    {
     "data": {
      "text/plain": [
       "<keras.callbacks.History at 0x16e10aeb640>"
      ]
     },
     "execution_count": 17,
     "metadata": {},
     "output_type": "execute_result"
    }
   ],
   "source": [
    "ann.fit(X_train, y_train, batch_size = 32, epochs = 45)"
   ]
  },
  {
   "cell_type": "markdown",
   "id": "8ad1a13a",
   "metadata": {},
   "source": [
    "### Predicting the Test set results"
   ]
  },
  {
   "cell_type": "code",
   "execution_count": 18,
   "id": "8c153faa",
   "metadata": {},
   "outputs": [
    {
     "name": "stdout",
     "output_type": "stream",
     "text": [
      "63/63 [==============================] - 0s 3ms/step\n",
      "[[0 0]\n",
      " [0 1]\n",
      " [0 0]\n",
      " ...\n",
      " [0 0]\n",
      " [0 0]\n",
      " [0 0]]\n"
     ]
    }
   ],
   "source": [
    "y_pred = ann.predict(X_test)\n",
    "y_pred = (y_pred > 0.5)\n",
    "print(np.concatenate((y_pred.reshape(len(y_pred),1), y_test.reshape(len(y_test),1)),1))"
   ]
  },
  {
   "cell_type": "markdown",
   "id": "2b683fd8",
   "metadata": {},
   "source": [
    "### Making the Confusion Matrix"
   ]
  },
  {
   "cell_type": "code",
   "execution_count": 19,
   "id": "76584366",
   "metadata": {},
   "outputs": [
    {
     "name": "stdout",
     "output_type": "stream",
     "text": [
      "[[1512   83]\n",
      " [ 187  218]]\n"
     ]
    },
    {
     "data": {
      "text/plain": [
       "0.865"
      ]
     },
     "execution_count": 19,
     "metadata": {},
     "output_type": "execute_result"
    }
   ],
   "source": [
    "from sklearn.metrics import confusion_matrix, accuracy_score\n",
    "cm = confusion_matrix(y_test, y_pred)\n",
    "print(cm)\n",
    "accuracy_score(y_test, y_pred)"
   ]
  },
  {
   "cell_type": "code",
   "execution_count": null,
   "id": "48c9849d",
   "metadata": {},
   "outputs": [],
   "source": []
  }
 ],
 "metadata": {
  "kernelspec": {
   "display_name": "Python 3 (ipykernel)",
   "language": "python",
   "name": "python3"
  },
  "language_info": {
   "codemirror_mode": {
    "name": "ipython",
    "version": 3
   },
   "file_extension": ".py",
   "mimetype": "text/x-python",
   "name": "python",
   "nbconvert_exporter": "python",
   "pygments_lexer": "ipython3",
   "version": "3.10.5"
  }
 },
 "nbformat": 4,
 "nbformat_minor": 5
}
